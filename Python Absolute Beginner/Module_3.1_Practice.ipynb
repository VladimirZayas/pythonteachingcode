{
 "cells": [
  {
   "cell_type": "markdown",
   "metadata": {},
   "source": [
    "# Module 3 Practice 1\n",
    "## Conditionals \n",
    "<font size=\"5\" color=\"#00A0B2\"  face=\"verdana\"> <B>Student will be able to</B></font>  \n",
    "- **control code flow with `if`... `else` conditional logic**  \n",
    "  - using Boolean string methods (`.isupper(), .isalpha(), .startswith()...`)  \n",
    "  - using comparision (`>, <, >=, <=, ==, !=`)  \n",
    "  - using Strings in comparisons  \n",
    "\n",
    "## `if else`\n"
   ]
  },
  {
   "cell_type": "code",
   "execution_count": 5,
   "metadata": {},
   "outputs": [
    {
     "name": "stdout",
     "output_type": "stream",
     "text": [
      "Enter your age: 10\n",
      "it's good to be that age!\n"
     ]
    }
   ],
   "source": [
    "# [ ] input avariable: age as digit and cast to int\n",
    "# if age greater than or equal to 12 then print message on age in 10 years \n",
    "# or else print message \"It is good to be\" age\n",
    "\n",
    "age = int(input(\"Enter your age: \"))\n",
    "\n",
    "if age >= 12:\n",
    "    print (\"Heres age in a decade: \", age + 10)\n",
    "else: \n",
    "    print( \"it's good to be that age!\")\n"
   ]
  },
  {
   "cell_type": "code",
   "execution_count": 36,
   "metadata": {},
   "outputs": [
    {
     "name": "stdout",
     "output_type": "stream",
     "text": [
      "Enter a number: hello\n",
      "Please enter an integer!\n"
     ]
    }
   ],
   "source": [
    "# [ ] input a number \n",
    "# if number IS a digit string then cast to int\n",
    "# print number \"greater than 100 is\" True/False\n",
    "# if number is NOT a digit string then message the user that \"only int is accepted\"\n",
    "num = input(\"Enter a number: \")\n",
    "\n",
    "\n",
    "if num.isdigit():\n",
    "    if int(num) >= 100:\n",
    "        print(\"This number is greater than 100\")\n",
    "    elif int(num) <= 100:\n",
    "        print(\"This number is less than 100\")\n",
    "else:\n",
    "    print(\"Please enter an integer!\")\n"
   ]
  },
  {
   "cell_type": "markdown",
   "metadata": {},
   "source": [
    "### Guessing a letter A-Z  \n",
    "**check_guess()** takes 2 string arguments: **letter and guess** (both expect single alphabetical character)   \n",
    "    - if guess is not an alpha character print invalid and return False\n",
    "    - test and print if guess is \"high\" or \"low\" and return False\n",
    "    - test and print if guess is \"correct\" and return True"
   ]
  },
  {
   "cell_type": "code",
   "execution_count": 177,
   "metadata": {},
   "outputs": [
    {
     "name": "stdout",
     "output_type": "stream",
     "text": [
      "A is correct!\n"
     ]
    },
    {
     "data": {
      "text/plain": [
       "True"
      ]
     },
     "execution_count": 177,
     "metadata": {},
     "output_type": "execute_result"
    }
   ],
   "source": [
    "# [ ] create check_guess()\n",
    "# call with test\n",
    "\n",
    "def check_guess(letter , guess):\n",
    "    if guess.isalpha():\n",
    "        if guess == letter:\n",
    "            print(guess , \"is correct!\")\n",
    "            return(True)\n",
    "        elif guess > letter:\n",
    "            print(guess , \"is too high\")\n",
    "            return(False)\n",
    "        elif guess < letter:\n",
    "            print((guess) , \"is too low\")\n",
    "            return(False)\n",
    "    else:\n",
    "        print(\"INVALID\")\n",
    "        return(False)\n",
    "    \n",
    "check_guess(\"A\" , \"A\")"
   ]
  },
  {
   "cell_type": "code",
   "execution_count": 57,
   "metadata": {},
   "outputs": [
    {
     "name": "stdout",
     "output_type": "stream",
     "text": [
      "Type a letter: b\n",
      "B is too high\n"
     ]
    },
    {
     "data": {
      "text/plain": [
       "False"
      ]
     },
     "execution_count": 57,
     "metadata": {},
     "output_type": "execute_result"
    }
   ],
   "source": [
    "# [ ] call check_guess with user input\n",
    "check_guess(\"A\" , input(\"Type a letter: \").upper())\n"
   ]
  },
  {
   "cell_type": "markdown",
   "metadata": {},
   "source": [
    "### Letter Guess\n",
    "**create letter_guess() function that gives user 3 guesses**\n",
    "- takes a letter character argument for the answer letter\n",
    "- gets user input for letter guess  \n",
    "- calls check_guess() with answer and guess\n",
    "- End letter_guess if \n",
    "    - check_guess() equals True, return True  \n",
    "    - or after 3 failed attempts, return False"
   ]
  },
  {
   "cell_type": "code",
   "execution_count": null,
   "metadata": {},
   "outputs": [],
   "source": []
  },
  {
   "cell_type": "code",
   "execution_count": null,
   "metadata": {},
   "outputs": [],
   "source": []
  },
  {
   "cell_type": "code",
   "execution_count": null,
   "metadata": {},
   "outputs": [],
   "source": []
  },
  {
   "cell_type": "code",
   "execution_count": 180,
   "metadata": {},
   "outputs": [
    {
     "name": "stdout",
     "output_type": "stream",
     "text": [
      "Enter a letter to guess:a\n",
      "Enter a guess:b\n",
      "B is too high\n",
      "Enter a guess:a\n",
      "A is correct!\n"
     ]
    },
    {
     "data": {
      "text/plain": [
       "True"
      ]
     },
     "execution_count": 180,
     "metadata": {},
     "output_type": "execute_result"
    }
   ],
   "source": [
    "# [ ] create letter_guess() function, call the function to test\n",
    "\n",
    "def letter_guess(letter_answer):\n",
    "    if letter_answer.isalpha():\n",
    "        count = 0\n",
    "        letter_answer = letter_answer.capitalize()\n",
    "        guess = input(\"Enter a guess:\")\n",
    "        guess = guess.capitalize()\n",
    "        didIguessit = check_guess(letter_answer , guess)\n",
    "\n",
    "        if didIguessit:\n",
    "            return(True)\n",
    "        if count == 0:\n",
    "            guess = input(\"Enter a guess:\")\n",
    "            guess = guess.capitalize()\n",
    "            didIguessit = check_guess(letter_answer , guess)\n",
    "            if didIguessit:\n",
    "                return True\n",
    "            count = count + 1\n",
    "        if count == 1:\n",
    "            guess = input(\"Enter a guess:\")\n",
    "            guess = guess.capitalize()\n",
    "            didIguessit = check_guess(letter_answer , guess)\n",
    "            if didIguessit:\n",
    "                return True\n",
    "            count = count + 1\n",
    "        if count == 2:\n",
    "            guess = input(\"Enter a guess:\")\n",
    "            guess = guess.capitalize()\n",
    "            didIguessit = check_guess(letter_answer , guess)\n",
    "            if didIguessit:\n",
    "                return True\n",
    "            count = count + 1\n",
    "        elif count == 3:\n",
    "            return False\n",
    "    else:\n",
    "        print(\"Invalid\")\n",
    "\n",
    "\n",
    "letter_answer = input(\"Enter a letter to guess:\")\n",
    "letter_guess(letter_answer)\n"
   ]
  },
  {
   "cell_type": "markdown",
   "metadata": {},
   "source": [
    "### Pet Conversation\n",
    "**ask the user for a sentence about a pet and then reply**  \n",
    "- get user input in variable: about_pet\n",
    "- using a series of **if** statements respond with appropriate conversation\n",
    "  - check if \"dog\" is in the string about_pet (sample reply \"Ah, a dog\")\n",
    "  - check if \"cat\" is in the string about_pet\n",
    "  - check if 1 or more animal is in string about_pet\n",
    "- no need for **else**'s\n",
    "- finish with thanking for the story"
   ]
  },
  {
   "cell_type": "code",
   "execution_count": 63,
   "metadata": {},
   "outputs": [
    {
     "name": "stdout",
     "output_type": "stream",
     "text": [
      "Tell me something about your pet:dog\n",
      "Ah, a dog.\n",
      "Thanks for telling me!\n"
     ]
    }
   ],
   "source": [
    "# [ ] complete pet conversation\n",
    "about_pet = input(\"Tell me something about your pet:\")\n",
    "about_pet = about_pet.lower()\n",
    "\n",
    "if \"dog\" in about_pet:\n",
    "    print(\"Ah, a dog.\")\n",
    "    print(\"Thanks for telling me!\")\n",
    "if \"cat\" in about_pet:\n",
    "    print(\"Ah, a cat.\")\n",
    "    print(\"Thanks for telling me!\")\n",
    "if \"snake\" in about_pet:\n",
    "    print(\"Ah, snakes am I right?\")\n",
    "    print(\"Thanks for telling me!\")\n"
   ]
  },
  {
   "cell_type": "markdown",
   "metadata": {},
   "source": [
    "# Module 3 Practice 2\n",
    "## conditionals, type, and mathematics extended   \n",
    "&nbsp;\n",
    "<font size=\"5\" color=\"#00A0B2\"  face=\"verdana\"> <B>Student will be able to</B></font>  \n",
    "- code more than two choices using **`elif`** \n",
    "- gather numeric input using type casting  \n",
    "- perform subtraction, multiplication and division operations in code  &nbsp;  \n"
   ]
  },
  {
   "cell_type": "markdown",
   "metadata": {},
   "source": [
    "# &nbsp;  \n",
    "<font size=\"6\" color=\"#B24C00\"  face=\"verdana\"> <B>Tasks</B></font>"
   ]
  },
  {
   "cell_type": "markdown",
   "metadata": {},
   "source": [
    "### Rainbow colors\n",
    "ask for input of a favorite rainbow color first letter: ROYGBIV  \n",
    "\n",
    "Using `if`, `elif`, and `else`:  \n",
    "- print the color matching the letter  \n",
    "    - R = Red  \n",
    "    - O = Orange  \n",
    "    - Y = Yellow  \n",
    "    - G = Green\n",
    "    - B = Blue\n",
    "    - I = Indigo\n",
    "    - V = Violet\n",
    "    - else print \"no match\"\n"
   ]
  },
  {
   "cell_type": "code",
   "execution_count": 73,
   "metadata": {},
   "outputs": [
    {
     "name": "stdout",
     "output_type": "stream",
     "text": [
      "Favorite rainbow color with the first letter: i\n",
      "No Match\n"
     ]
    }
   ],
   "source": [
    "# [ ] complete rainbow colors\n",
    "\n",
    "rainbow = input(\"Favorite rainbow color with the first letter: \").upper()\n",
    "\n",
    "if rainbow == \"R\":\n",
    "        print ('Red')\n",
    "elif rainbow == \"O\":\n",
    "        print(\"Orange\")\n",
    "elif rainbow == \"Y\":\n",
    "        print(\"Yellow\")\n",
    "elif rainbow == \"G\":\n",
    "        print(\"Green\")\n",
    "else:\n",
    "    print(\"No Match\")\n",
    "\n"
   ]
  },
  {
   "cell_type": "code",
   "execution_count": 2,
   "metadata": {},
   "outputs": [
    {
     "name": "stdout",
     "output_type": "stream",
     "text": [
      "Favorite rainbow color with the first letter: G\n",
      "Green\n"
     ]
    }
   ],
   "source": [
    "# [ ] make the code above into a function rainbow_color() that has a string parameter, \n",
    "# get input and call the function and return the matching color as a string or \"no match\" message.\n",
    "# Call the function and print the return string.\n",
    "def rainbow_color(Color):\n",
    "    if rainbow == \"R\":\n",
    "        print ('Red')\n",
    "    elif rainbow == \"O\":\n",
    "        print(\"Orange\")\n",
    "    elif rainbow == \"Y\":\n",
    "        print(\"Yellow\")\n",
    "    elif rainbow == \"G\":\n",
    "        print(\"Green\")\n",
    "    else:\n",
    "        print(\"No Match\")\n",
    "    \n",
    "rainbow = input(\"Favorite rainbow color with the first letter: \").upper()\n",
    "\n",
    "favorite = rainbow_color(rainbow)\n",
    "\n"
   ]
  },
  {
   "cell_type": "markdown",
   "metadata": {},
   "source": [
    "# &nbsp;  \n",
    "**Create function age_20() that adds or subtracts 20 from your age for a return value based on current age** (use `if`) \n",
    "- call the funtion with user input and then use the return value in a sentence  \n",
    "example `age_20(25)` returns **5**: \n",
    "> \"5 years old, 20 years difference from now\""
   ]
  },
  {
   "cell_type": "code",
   "execution_count": 157,
   "metadata": {},
   "outputs": [
    {
     "name": "stdout",
     "output_type": "stream",
     "text": [
      "Enter your age20\n",
      "40 years old, 20 years difference from now\n"
     ]
    }
   ],
   "source": [
    "# [ ] complete age_20()\n",
    "user_age = int(input(\"Enter your age\"))\n",
    "\n",
    "def age_20(age):\n",
    "    if age > 20:\n",
    "        return age - 20\n",
    "    elif age <= 20:\n",
    "        return age + 20\n",
    "    \n",
    "print (age_20(user_age), \"years old, 20 years difference from now\")\n",
    "  \n"
   ]
  },
  {
   "cell_type": "markdown",
   "metadata": {},
   "source": [
    "**create a function rainbow_or_age that takes a string argument**\n",
    "- if argument is a digit return the value of calling age_20() with the str value cast as **`int`** \n",
    "- if argument is an alphabetical character return the value of calling rainbow_color() with the str\n",
    "- if neither return FALSE"
   ]
  },
  {
   "cell_type": "code",
   "execution_count": 6,
   "metadata": {},
   "outputs": [
    {
     "name": "stdout",
     "output_type": "stream",
     "text": [
      "Green\n"
     ]
    }
   ],
   "source": [
    "# [ ]  create rainbow_or_age()\n",
    "def rainbow_or_age(value):\n",
    "    if value.isdigit(): \n",
    "        return age_20(int(value))\n",
    "    elif value.isalpha():\n",
    "        return rainbow_color(value)\n",
    "    else:\n",
    "        return False\n",
    "\n",
    "rainbow_or_age(\"G\")"
   ]
  },
  {
   "cell_type": "code",
   "execution_count": 8,
   "metadata": {},
   "outputs": [
    {
     "name": "stdout",
     "output_type": "stream",
     "text": [
      "Enter first number: 3\n",
      "Enter second number: 5\n",
      "8\n"
     ]
    }
   ],
   "source": [
    "# [ ]  add 2 numbers from input using a cast to integer and display the answer \n",
    "number_1 = int(input(\"Enter first number: \"))\n",
    "number_2 = int(input(\"Enter second number: \"))\n",
    "\n",
    "print(number_1 + number_2)"
   ]
  },
  {
   "cell_type": "code",
   "execution_count": 10,
   "metadata": {},
   "outputs": [
    {
     "name": "stdout",
     "output_type": "stream",
     "text": [
      "Enter first number: 8\n",
      "Enter second number: 9\n",
      "The answer is...72\n"
     ]
    }
   ],
   "source": [
    "# [ ] Multiply 2 numbers from input using cast and save the answer as part of a string \"the answer is...\"\n",
    "# display the string using print\n",
    "number_1 = int(input(\"Enter first number: \"))\n",
    "number_2 = int(input(\"Enter second number: \"))\n",
    "\n",
    "\n",
    "multiply = number_1 * number_2\n",
    "\n",
    "print(\"The answer is...\" + str(multiply))"
   ]
  },
  {
   "cell_type": "code",
   "execution_count": 12,
   "metadata": {},
   "outputs": [
    {
     "name": "stdout",
     "output_type": "stream",
     "text": [
      "Enter first number: 16\n",
      "Enter second number: 8\n",
      "12.0\n"
     ]
    }
   ],
   "source": [
    "# [ ] get input of 2 numbers and display the average: (num1 + num2) divided by 2\n",
    "number_1 = int(input(\"Enter first number: \"))\n",
    "number_2 = int(input(\"Enter second number: \"))\n",
    "\n",
    "print ((number_1 + number_2)/2)\n"
   ]
  },
  {
   "cell_type": "code",
   "execution_count": 15,
   "metadata": {},
   "outputs": [
    {
     "name": "stdout",
     "output_type": "stream",
     "text": [
      "Enter first number: 9\n",
      "Enter second number: 15\n",
      "6\n"
     ]
    }
   ],
   "source": [
    "# [ ] get input of 2 numbers and subtract the largest from the smallest (use an if statement to see which is larger)\n",
    "# show the answer\n",
    "number_1 = int(input(\"Enter first number: \"))\n",
    "number_2 = int(input(\"Enter second number: \"))\n",
    "\n",
    "if number_1>number_2:\n",
    "    print (number_1 - number_2)\n",
    "else:\n",
    "    print (number_2 - number_1)\n",
    "    \n"
   ]
  },
  {
   "cell_type": "code",
   "execution_count": 25,
   "metadata": {},
   "outputs": [
    {
     "name": "stdout",
     "output_type": "stream",
     "text": [
      "Enter first number: 9\n",
      "Enter second number: 2\n",
      "4\n"
     ]
    }
   ],
   "source": [
    "# [ ] Divide a larger number by a smaller number and print the integer part of the result\n",
    "# don't divide by zero! if a zero is input make the result zero\n",
    "# [ ] cast the answer to an integer to cut off the decimals and print the result\n",
    "\n",
    "number_1 = int(input(\"Enter first number: \"))\n",
    "number_2 = int(input(\"Enter second number: \"))\n",
    "\n",
    "if number_1 == 0 or number_2 == 0:\n",
    "    print(\"0\")\n",
    "elif number_1>number_2:\n",
    "    print (int(number_1 / number_2))\n",
    "else:\n",
    "    print (int(number_2 / number_1))\n"
   ]
  },
  {
   "cell_type": "markdown",
   "metadata": {
    "collapsed": true
   },
   "source": [
    "[Terms of use](http://go.microsoft.com/fwlink/?LinkID=206977) &nbsp; [Privacy & cookies](https://go.microsoft.com/fwlink/?LinkId=521839) &nbsp; © 2017 Microsoft"
   ]
  }
 ],
 "metadata": {
  "anaconda-cloud": {},
  "kernelspec": {
   "display_name": "Python 3 (ipykernel)",
   "language": "python",
   "name": "python3"
  },
  "language_info": {
   "codemirror_mode": {
    "name": "ipython",
    "version": 3
   },
   "file_extension": ".py",
   "mimetype": "text/x-python",
   "name": "python",
   "nbconvert_exporter": "python",
   "pygments_lexer": "ipython3",
   "version": "3.9.7"
  }
 },
 "nbformat": 4,
 "nbformat_minor": 1
}
